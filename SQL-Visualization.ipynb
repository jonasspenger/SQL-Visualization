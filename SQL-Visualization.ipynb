{
 "cells": [
  {
   "cell_type": "code",
   "execution_count": 1,
   "metadata": {},
   "outputs": [],
   "source": [
    "import pandas\n",
    "import pandasql\n",
    "import matplotlib.pyplot"
   ]
  },
  {
   "cell_type": "code",
   "execution_count": 2,
   "metadata": {},
   "outputs": [],
   "source": [
    "def SQLVisualization(query):\n",
    "    resulting_table = pandasql.sqldf(query, globals())\n",
    "    \n",
    "    # extract metadata\n",
    "    if 'plottype' in resulting_table:\n",
    "        plottype = resulting_table['plottype'].unique()[0]\n",
    "    else:\n",
    "        raise\n",
    "    if 'xlabel' in resulting_table:\n",
    "        xlabel = resulting_table['xlabel'].unique()[0]\n",
    "    if 'ylabel' in resulting_table:\n",
    "        ylabel = resulting_table['ylabel'].unique()[0]\n",
    "    if 'group' in resulting_table:\n",
    "        groups = True\n",
    "    else:\n",
    "        groups = False\n",
    "\n",
    "    if plottype == 'scatterplot':\n",
    "        for name, group in resulting_table.groupby('group'):\n",
    "            matplotlib.pyplot.scatter(group['x'], group['y'], label=name)\n",
    "        if groups == True:\n",
    "            matplotlib.pyplot.legend()\n",
    "    if plottype == 'boxplot':\n",
    "        x = []\n",
    "        labels = []\n",
    "        for name, group in resulting_table.groupby(\"group\"):\n",
    "            labels.append(name)\n",
    "            x.append(group['x'].values)\n",
    "        matplotlib.pyplot.boxplot(x, labels=labels)\n",
    "\n",
    "    if 'xlabel' in resulting_table: \n",
    "        matplotlib.pyplot.xlabel(xlabel)\n",
    "    if 'ylabel' in resulting_table: \n",
    "        matplotlib.pyplot.ylabel(ylabel)\n",
    "\n",
    "    matplotlib.pyplot.show()"
   ]
  },
  {
   "cell_type": "code",
   "execution_count": 3,
   "metadata": {},
   "outputs": [
    {
     "data": {
      "text/html": [
       "<div>\n",
       "<style scoped>\n",
       "    .dataframe tbody tr th:only-of-type {\n",
       "        vertical-align: middle;\n",
       "    }\n",
       "\n",
       "    .dataframe tbody tr th {\n",
       "        vertical-align: top;\n",
       "    }\n",
       "\n",
       "    .dataframe thead th {\n",
       "        text-align: right;\n",
       "    }\n",
       "</style>\n",
       "<table border=\"1\" class=\"dataframe\">\n",
       "  <thead>\n",
       "    <tr style=\"text-align: right;\">\n",
       "      <th></th>\n",
       "      <th>age</th>\n",
       "      <th>weight</th>\n",
       "      <th>sex</th>\n",
       "    </tr>\n",
       "  </thead>\n",
       "  <tbody>\n",
       "    <tr>\n",
       "      <td>0</td>\n",
       "      <td>20</td>\n",
       "      <td>82</td>\n",
       "      <td>m</td>\n",
       "    </tr>\n",
       "    <tr>\n",
       "      <td>1</td>\n",
       "      <td>21</td>\n",
       "      <td>72</td>\n",
       "      <td>f</td>\n",
       "    </tr>\n",
       "    <tr>\n",
       "      <td>2</td>\n",
       "      <td>40</td>\n",
       "      <td>86</td>\n",
       "      <td>m</td>\n",
       "    </tr>\n",
       "    <tr>\n",
       "      <td>3</td>\n",
       "      <td>37</td>\n",
       "      <td>75</td>\n",
       "      <td>f</td>\n",
       "    </tr>\n",
       "  </tbody>\n",
       "</table>\n",
       "</div>"
      ],
      "text/plain": [
       "   age  weight sex\n",
       "0   20      82   m\n",
       "1   21      72   f\n",
       "2   40      86   m\n",
       "3   37      75   f"
      ]
     },
     "execution_count": 3,
     "metadata": {},
     "output_type": "execute_result"
    }
   ],
   "source": [
    "data = [\n",
    "  {'age': 20, 'weight': 82, 'sex': 'm' },\n",
    "  {'age': 21, 'weight': 72, 'sex': 'f' },\n",
    "  {'age': 40, 'weight': 86, 'sex': 'm' },\n",
    "  {'age': 37, 'weight': 75, 'sex': 'f' },\n",
    "]\n",
    "\n",
    "data = pandas.DataFrame(data)\n",
    "data.head()"
   ]
  },
  {
   "cell_type": "code",
   "execution_count": 4,
   "metadata": {},
   "outputs": [
    {
     "data": {
      "image/png": "[encoded data removed]",
      "text/plain": [
       "<Figure size 432x288 with 1 Axes>"
      ]
     },
     "metadata": {
      "needs_background": "light"
     },
     "output_type": "display_data"
    }
   ],
   "source": [
    "query = \"\"\"\n",
    "SELECT\n",
    "    age AS 'x',\n",
    "    weight AS 'y',\n",
    "    sex AS 'group',\n",
    "    'scatterplot' AS 'plottype',\n",
    "    'age' AS 'xlabel',\n",
    "    'weight' AS 'ylabel'\n",
    "FROM\n",
    "    data\n",
    "\"\"\"\n",
    "\n",
    "SQLVisualization(query)"
   ]
  },
  {
   "cell_type": "code",
   "execution_count": 5,
   "metadata": {},
   "outputs": [
    {
     "data": {
      "image/png": "[encoded data removed]",
      "text/plain": [
       "<Figure size 432x288 with 1 Axes>"
      ]
     },
     "metadata": {
      "needs_background": "light"
     },
     "output_type": "display_data"
    }
   ],
   "source": [
    "query = \"\"\"\n",
    "SELECT\n",
    "    weight AS 'x',\n",
    "    sex AS 'group',\n",
    "    'boxplot' AS 'plottype',\n",
    "    'sex' AS 'xlabel',\n",
    "    'weight' AS 'ylabel'\n",
    "FROM\n",
    "    data\n",
    "\"\"\"\n",
    "\n",
    "SQLVisualization(query)"
   ]
  }
 ],
 "metadata": {
  "kernelspec": {
   "display_name": "Python 3",
   "language": "python",
   "name": "python3"
  },
  "language_info": {
   "codemirror_mode": {
    "name": "ipython",
    "version": 3
   },
   "file_extension": ".py",
   "mimetype": "text/x-python",
   "name": "python",
   "nbconvert_exporter": "python",
   "pygments_lexer": "ipython3",
   "version": "3.7.1"
  }
 },
 "nbformat": 4,
 "nbformat_minor": 2
}
